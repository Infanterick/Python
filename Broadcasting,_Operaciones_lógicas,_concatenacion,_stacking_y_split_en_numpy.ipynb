{
  "nbformat": 4,
  "nbformat_minor": 0,
  "metadata": {
    "colab": {
      "provenance": [],
      "authorship_tag": "ABX9TyO60dpcyS9QJWalaLB7lIAy",
      "include_colab_link": true
    },
    "kernelspec": {
      "name": "python3",
      "display_name": "Python 3"
    },
    "language_info": {
      "name": "python"
    }
  },
  "cells": [
    {
      "cell_type": "markdown",
      "metadata": {
        "id": "view-in-github",
        "colab_type": "text"
      },
      "source": [
        "<a href=\"https://colab.research.google.com/github/Infanterick/Python/blob/master/Broadcasting%2C_Operaciones_l%C3%B3gicas%2C_concatenacion%2C_stacking_y_split_en_numpy.ipynb\" target=\"_parent\"><img src=\"https://colab.research.google.com/assets/colab-badge.svg\" alt=\"Open In Colab\"/></a>"
      ]
    },
    {
      "cell_type": "markdown",
      "source": [
        "# Broadcasting y Operaciones lógicas\n",
        "---\n",
        "\n"
      ],
      "metadata": {
        "id": "wRnqhkChNM8c"
      }
    },
    {
      "cell_type": "code",
      "execution_count": 1,
      "metadata": {
        "id": "dG39pgKVNKC9"
      },
      "outputs": [],
      "source": [
        "import numpy as np"
      ]
    },
    {
      "cell_type": "markdown",
      "source": [
        "## Broadcasting\n",
        "\n",
        "Permite realizar operaciones en arrays de diferentes formas sin necesidad de duplicar datos.\n",
        "\n",
        "Ejemplo: aplicar un descuento a los precios de todos los productos en un arreglo."
      ],
      "metadata": {
        "id": "27JvW-fSNzUG"
      }
    },
    {
      "cell_type": "code",
      "source": [
        "prices = np. array([100,200,300])   # Precio de los productos\n",
        "discount = np.array([0.9])          # Descuento a aplicar\n",
        "discount_prices = prices * discount # Precio final (con descuento)\n",
        "\n",
        "print(discount_prices)"
      ],
      "metadata": {
        "colab": {
          "base_uri": "https://localhost:8080/"
        },
        "id": "1-2B6hnVNgDP",
        "outputId": "18e4cb16-bf69-475f-df66-7a4331a1764a"
      },
      "execution_count": 2,
      "outputs": [
        {
          "output_type": "stream",
          "name": "stdout",
          "text": [
            "[ 90. 180. 270.]\n"
          ]
        }
      ]
    },
    {
      "cell_type": "code",
      "source": [
        "prices = np.random.randint(100,500, size=(3,3)) # Creaamos una matrix 3x3 con valores aleatorios del 100 al 500.\n",
        "discount = np.array([10,20,30])                 # Creamos un arreglo con los descuentos a aplicar.\n",
        "discount_prices = prices - discount             # Precio final (con descuento).\n",
        "\n",
        "print(\"Precios:\\n\", prices, \"\\n\")\n",
        "print(\"Precio final:\\n\", discount_prices)"
      ],
      "metadata": {
        "colab": {
          "base_uri": "https://localhost:8080/"
        },
        "id": "h2KxEJqYOUks",
        "outputId": "ccda8143-072b-4bbc-eab0-488c2c53a6b2"
      },
      "execution_count": 8,
      "outputs": [
        {
          "output_type": "stream",
          "name": "stdout",
          "text": [
            "Precios:\n",
            " [[108 378 136]\n",
            " [325 415 268]\n",
            " [179 335 119]] \n",
            "\n",
            "Precio final:\n",
            " [[ 98 358 106]\n",
            " [315 395 238]\n",
            " [169 315  89]]\n"
          ]
        }
      ]
    },
    {
      "cell_type": "markdown",
      "source": [
        "## Operaciones Lógicas\n",
        "Permiten realizar comparaciones en arrays y crear máscaras booleanas."
      ],
      "metadata": {
        "id": "_Vj1qXlZPix0"
      }
    },
    {
      "cell_type": "markdown",
      "source": [
        "### Método ALL\n",
        "Verifica si TODOS los elementos del arreglo cumplen con la condición dada y retorna True o False según sea el caso."
      ],
      "metadata": {
        "id": "hvYk2I-eQyfH"
      }
    },
    {
      "cell_type": "code",
      "source": [
        "array = np.array([1,2,3,4,5])\n",
        "\n",
        "print(\"Todos los valores son mayores a 0:\", np.all(array > 0))\n",
        "print(\"Todos los valores son menores a 5:\", np.all(array < 5))"
      ],
      "metadata": {
        "colab": {
          "base_uri": "https://localhost:8080/"
        },
        "id": "Mk16BMxqPngO",
        "outputId": "5f432d09-68f3-4e35-ff1d-e330809e65eb"
      },
      "execution_count": 11,
      "outputs": [
        {
          "output_type": "stream",
          "name": "stdout",
          "text": [
            "Todos los valores son mayores a 0: True\n",
            "Todos los valores son menores a 5: False\n"
          ]
        }
      ]
    },
    {
      "cell_type": "markdown",
      "source": [
        "### Método ANY\n",
        "Verifica si algún elemento del arreglo cumple con la condición dada y retorna True o False según sea el caso."
      ],
      "metadata": {
        "id": "Q0W5TvzmQkuH"
      }
    },
    {
      "cell_type": "code",
      "source": [
        "print(\"Algún elemento es mayor a 0:\", np.any(array > 0))\n",
        "print(\"Algún elemento es menor a 5:\", np.any(array < 5))"
      ],
      "metadata": {
        "colab": {
          "base_uri": "https://localhost:8080/"
        },
        "id": "KenzLfBSP5aJ",
        "outputId": "a106ca4f-03ec-41bb-b32d-2ac13e499354"
      },
      "execution_count": 12,
      "outputs": [
        {
          "output_type": "stream",
          "name": "stdout",
          "text": [
            "Algún elemento es mayor a 0: True\n",
            "Algún elemento es menor a 5: True\n"
          ]
        }
      ]
    },
    {
      "cell_type": "markdown",
      "source": [
        "## Concatenación\n",
        "Permite unir (combinar) varios arreglos."
      ],
      "metadata": {
        "id": "inI9zS-4Rakm"
      }
    },
    {
      "cell_type": "code",
      "source": [
        "array_a = np.array([1,2,3])\n",
        "array_b = np.array([4,5,6])"
      ],
      "metadata": {
        "id": "KWXqGf-HReaq"
      },
      "execution_count": 13,
      "outputs": []
    },
    {
      "cell_type": "code",
      "source": [
        "concatenated = np.concatenate((array_b, array_a))\n",
        "print(concatenated)"
      ],
      "metadata": {
        "colab": {
          "base_uri": "https://localhost:8080/"
        },
        "id": "sXf3U2d_RrXy",
        "outputId": "9be8d5fd-b63b-4b74-df12-805995b16ec0"
      },
      "execution_count": 16,
      "outputs": [
        {
          "output_type": "stream",
          "name": "stdout",
          "text": [
            "[4 5 6 1 2 3]\n"
          ]
        }
      ]
    },
    {
      "cell_type": "markdown",
      "source": [
        "## Stacking\n",
        "Permite apilar arreglos de manera vertical u horizontal."
      ],
      "metadata": {
        "id": "GXdOfUA0T_MK"
      }
    },
    {
      "cell_type": "code",
      "source": [
        "array_a = np.array([1,2,3])\n",
        "array_b = np.array([4,5,6])"
      ],
      "metadata": {
        "id": "c77RjJqjUGK3"
      },
      "execution_count": null,
      "outputs": []
    },
    {
      "cell_type": "code",
      "source": [
        "# Stacking vertical (vstack)\n",
        "\n",
        "v_stack = np.vstack((array_a, array_b))\n",
        "print(v_stack)"
      ],
      "metadata": {
        "colab": {
          "base_uri": "https://localhost:8080/"
        },
        "id": "yu33MtrdUW76",
        "outputId": "6b6ade06-5601-442e-f284-55d49d3e958d"
      },
      "execution_count": 17,
      "outputs": [
        {
          "output_type": "stream",
          "name": "stdout",
          "text": [
            "[[1 2 3]\n",
            " [4 5 6]]\n"
          ]
        }
      ]
    },
    {
      "cell_type": "code",
      "source": [
        "# Stackin horizontal (hstack)\n",
        "\n",
        "h_stack = np.hstack((array_a, array_b))\n",
        "print(h_stack)"
      ],
      "metadata": {
        "colab": {
          "base_uri": "https://localhost:8080/"
        },
        "id": "Hk7-15wWUwru",
        "outputId": "f0d4b68f-63d3-4ddb-f199-2e28f6324e18"
      },
      "execution_count": 18,
      "outputs": [
        {
          "output_type": "stream",
          "name": "stdout",
          "text": [
            "[1 2 3 4 5 6]\n"
          ]
        }
      ]
    },
    {
      "cell_type": "markdown",
      "source": [
        "## División de arreglos (split)\n",
        "La división debe ser entre un multiplo de la longitud del arreglo."
      ],
      "metadata": {
        "id": "5vpMOD-KVUzb"
      }
    },
    {
      "cell_type": "code",
      "source": [
        "array_c = np.arange(1,13)       # Creamos un arreglo en un rango del 1 al 12.\n",
        "print(array_c)\n",
        "\n",
        "splited = np.split(array_c, 3)  # Dividimos el arreglo en 3 partes\n",
        "print(splited)"
      ],
      "metadata": {
        "colab": {
          "base_uri": "https://localhost:8080/"
        },
        "id": "U-mmoPA2VYqe",
        "outputId": "da5961fb-a7d4-4102-9997-95bdcc271b66"
      },
      "execution_count": 28,
      "outputs": [
        {
          "output_type": "stream",
          "name": "stdout",
          "text": [
            "[ 1  2  3  4  5  6  7  8  9 10 11 12]\n",
            "[array([1, 2, 3, 4]), array([5, 6, 7, 8]), array([ 9, 10, 11, 12])]\n"
          ]
        }
      ]
    }
  ]
}