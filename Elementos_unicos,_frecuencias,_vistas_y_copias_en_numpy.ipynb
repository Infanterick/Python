{
  "nbformat": 4,
  "nbformat_minor": 0,
  "metadata": {
    "colab": {
      "provenance": [],
      "authorship_tag": "ABX9TyMMlrOsrl6L55VP9w2ZHhcH",
      "include_colab_link": true
    },
    "kernelspec": {
      "name": "python3",
      "display_name": "Python 3"
    },
    "language_info": {
      "name": "python"
    }
  },
  "cells": [
    {
      "cell_type": "markdown",
      "metadata": {
        "id": "view-in-github",
        "colab_type": "text"
      },
      "source": [
        "<a href=\"https://colab.research.google.com/github/Infanterick/Python/blob/master/Elementos_unicos%2C_frecuencias%2C_vistas_y_copias_en_numpy.ipynb\" target=\"_parent\"><img src=\"https://colab.research.google.com/assets/colab-badge.svg\" alt=\"Open In Colab\"/></a>"
      ]
    },
    {
      "cell_type": "markdown",
      "source": [
        "# Elementos únicos y frecuencias\n",
        "---\n",
        "La funcion .unique() Nos permite conocer los elementos de un arreglo y la cantidad de cada uno de estos.\n"
      ],
      "metadata": {
        "id": "Czgk944clNEZ"
      }
    },
    {
      "cell_type": "code",
      "execution_count": 1,
      "metadata": {
        "id": "xHZyMgMXlIwC"
      },
      "outputs": [],
      "source": [
        "import numpy as np"
      ]
    },
    {
      "cell_type": "code",
      "source": [
        "survey_responses = np.array([\"bueno\", \"excelente\", \"malo\",\n",
        "                             \"excelente\",\"bueno\",\"malo\",\n",
        "                             \"bueno\",\"excelente\",\"malo\", \"bueno\", \"bueno\", \"malo\"])"
      ],
      "metadata": {
        "id": "zuYypXf1lbUZ"
      },
      "execution_count": 12,
      "outputs": []
    },
    {
      "cell_type": "code",
      "source": [
        "# Se imprimen los elementos dentro del arreglo (sin repetirlos).\n",
        "\n",
        "print(np.unique(survey_responses))"
      ],
      "metadata": {
        "colab": {
          "base_uri": "https://localhost:8080/"
        },
        "id": "giuVAVAule89",
        "outputId": "7a0f37a8-9496-4b35-b8e0-78cb79a70318"
      },
      "execution_count": 4,
      "outputs": [
        {
          "output_type": "stream",
          "name": "stdout",
          "text": [
            "['bueno' 'excelente' 'malo']\n"
          ]
        }
      ]
    },
    {
      "cell_type": "code",
      "source": [
        "# Tambien podemos obtener la cantidad de veces que se repite cada elemento.\n",
        "\n",
        "unique_elements, count = np.unique(survey_responses, return_counts=True)\n",
        "print(unique_elements,\"\\n\", count)"
      ],
      "metadata": {
        "colab": {
          "base_uri": "https://localhost:8080/"
        },
        "id": "lZU4CTgAl_3i",
        "outputId": "71ced987-1072-42f2-8126-8cb9e1d12189"
      },
      "execution_count": 13,
      "outputs": [
        {
          "output_type": "stream",
          "name": "stdout",
          "text": [
            "['bueno' 'excelente' 'malo'] \n",
            " [5 3 4]\n"
          ]
        }
      ]
    },
    {
      "cell_type": "markdown",
      "source": [
        "# Vistas y copias de arreglos"
      ],
      "metadata": {
        "id": "OdT_pXrwm_fz"
      }
    },
    {
      "cell_type": "code",
      "source": [
        "array_x = np.arange(10)\n",
        "view_x = array_x[1:3]\n",
        "\n",
        "print(\"Arreglo x:\", array_x)\n",
        "print(\"Vista x:\", view_x)"
      ],
      "metadata": {
        "colab": {
          "base_uri": "https://localhost:8080/"
        },
        "id": "8_6OEtx0nCA9",
        "outputId": "915d1022-c1b8-4c58-d4fa-da312b1a4b2e"
      },
      "execution_count": 33,
      "outputs": [
        {
          "output_type": "stream",
          "name": "stdout",
          "text": [
            "Arreglo x: [0 1 2 3 4 5 6 7 8 9]\n",
            "Vista x: [1 2]\n"
          ]
        }
      ]
    },
    {
      "cell_type": "code",
      "source": [
        "# si modificamos el arreglo, se modificará tambien la lista.\n",
        "\n",
        "array_x[1:3] = [10,20]\n",
        "\n",
        "print(\"Arreglo modificado:\", array_x)\n",
        "print(\"Vista modificada:\", view_x)\n",
        "print(\"Comparten memoria:\", np.shares_memory(array_x, view_x))"
      ],
      "metadata": {
        "colab": {
          "base_uri": "https://localhost:8080/"
        },
        "id": "g2YgYhvKnwJH",
        "outputId": "5f35764d-9db2-469b-fbd9-be22ad5463bf"
      },
      "execution_count": 34,
      "outputs": [
        {
          "output_type": "stream",
          "name": "stdout",
          "text": [
            "Arreglo modificado: [ 0 10 20  3  4  5  6  7  8  9]\n",
            "Vista modificada: [10 20]\n",
            "Comparten memoria: True\n"
          ]
        }
      ]
    },
    {
      "cell_type": "markdown",
      "source": [
        "## Copias"
      ],
      "metadata": {
        "id": "Q4w3Ten0oDTn"
      }
    },
    {
      "cell_type": "code",
      "source": [
        "array_x = np.arange(10)   # Creamos un arreglo del 1 al 9.\n",
        "copy_x = array_x[[1,2]]   # Copiamos los elementos de los indices mencionados (debe llevar doble corchete).\n",
        "\n",
        "print(\"Arreglo x:\", array_x)\n",
        "print(\"Copia x:\", copy_x)"
      ],
      "metadata": {
        "colab": {
          "base_uri": "https://localhost:8080/"
        },
        "id": "zKLz8ZWSoFy5",
        "outputId": "ba16cd2e-a4d0-4360-f67d-1c4783fc987f"
      },
      "execution_count": 36,
      "outputs": [
        {
          "output_type": "stream",
          "name": "stdout",
          "text": [
            "Arreglo x: [0 1 2 3 4 5 6 7 8 9]\n",
            "Copia x: [1 2]\n"
          ]
        }
      ]
    },
    {
      "cell_type": "code",
      "source": [
        "array_x[1:3]=[10,20]  # Modificamos el arreglo.\n",
        "\n",
        "print(\"Arreglo modificado:\", array_x)\n",
        "print(\"Copia despues de la modificación:\", copy_x)\n",
        "print(\"Comparten memoria:\", np.shares_memory(array_x, copy_x))"
      ],
      "metadata": {
        "colab": {
          "base_uri": "https://localhost:8080/"
        },
        "id": "jPQzadvIoagZ",
        "outputId": "23652849-d921-43be-b369-908c6e76d236"
      },
      "execution_count": 35,
      "outputs": [
        {
          "output_type": "stream",
          "name": "stdout",
          "text": [
            "Arreglo modificado: [ 0 10 20  3  4  5  6  7  8  9]\n",
            "Copia despues de la modificación: [1 2]\n",
            "Comparten memoria: False\n"
          ]
        }
      ]
    },
    {
      "cell_type": "code",
      "source": [
        "array_y = np.arange(10)\n",
        "copy_y = np.copy(array_y)  # Utilizando la funcion copy()\n",
        "\n",
        "print(\"Arreglo y:\", array_y)\n",
        "print(\"Copia y:\", copy_y)\n",
        "\n",
        "array_y[1:3] = [8,9]       # Modificamos el arreglo.\n",
        "\n",
        "print(\"Arreglo y:\", array_y)\n",
        "print(\"Copia y:\", copy_y)\n",
        "\n",
        "\n",
        "copy_y = np.copy(array_y[1:3])  # Funcion copy() con slices.\n",
        "print(\"Seleción de la copia y:\", copy_y)"
      ],
      "metadata": {
        "colab": {
          "base_uri": "https://localhost:8080/"
        },
        "id": "oKhXsN_srMtP",
        "outputId": "e9203fc5-bdc4-4bc2-ad6b-d90d74386e0a"
      },
      "execution_count": 37,
      "outputs": [
        {
          "output_type": "stream",
          "name": "stdout",
          "text": [
            "Arreglo y: [0 1 2 3 4 5 6 7 8 9]\n",
            "Copia y: [0 1 2 3 4 5 6 7 8 9]\n",
            "Arreglo y: [0 8 9 3 4 5 6 7 8 9]\n",
            "Copia y: [0 1 2 3 4 5 6 7 8 9]\n",
            "Seleción de la copia y: [8 9]\n"
          ]
        }
      ]
    }
  ]
}